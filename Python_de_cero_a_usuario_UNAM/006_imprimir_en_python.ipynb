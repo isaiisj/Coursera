{
 "cells": [
  {
   "cell_type": "markdown",
   "id": "3b1b2fd7",
   "metadata": {
    "deletable": false,
    "editable": false,
    "nbgrader": {
     "cell_type": "markdown",
     "checksum": "8f2bb04e8a8592f30f639bfa8606049a",
     "grade": false,
     "grade_id": "cell-8e106d708e329fa2",
     "locked": true,
     "schema_version": 3,
     "solution": false,
     "task": false
    }
   },
   "source": [
    "##### solo lectura\n",
    "# Ejercicios para imprimir\n",
    "Realiza lo que se te pide usando las herramientas de Python\n",
    "\n",
    "Si hay código extra en la celda, no lo borres, solo reemplaza las X por lo que debe\n",
    "ser para lograr el objetivo de cada celda."
   ]
  },
  {
   "cell_type": "code",
   "execution_count": 3,
   "id": "326de5f8",
   "metadata": {
    "deletable": false,
    "nbgrader": {
     "cell_type": "code",
     "checksum": "3d5af41c1cb7e1ee5229ab4e7ede960f",
     "grade": false,
     "grade_id": "cell-bbcf84614fda86d0",
     "locked": false,
     "schema_version": 3,
     "solution": true,
     "task": false
    }
   },
   "outputs": [
    {
     "name": "stdout",
     "output_type": "stream",
     "text": [
      "3.1416\n"
     ]
    }
   ],
   "source": [
    "#E1: Guarda la variable en una cadena y con 4 decimales sin redondear\n",
    "# el resultado debe ser '3.1416'\n",
    "pi = 3.141592653589793\n",
    "texto_pi = f\"{pi:.4f}\"\n",
    "print(texto_pi)\n"
   ]
  },
  {
   "cell_type": "code",
   "execution_count": null,
   "id": "788925be",
   "metadata": {
    "deletable": false,
    "editable": false,
    "nbgrader": {
     "cell_type": "code",
     "checksum": "c5d607abd1018c8e56609422e8dc9976",
     "grade": true,
     "grade_id": "cell-a7dfa32c7d7c4563",
     "locked": true,
     "points": 1,
     "schema_version": 3,
     "solution": false,
     "task": false
    }
   },
   "outputs": [],
   "source": []
  },
  {
   "cell_type": "code",
   "execution_count": 7,
   "id": "f2664371",
   "metadata": {
    "deletable": false,
    "nbgrader": {
     "cell_type": "code",
     "checksum": "af861a949be4c344fcf1e3b9828ce05f",
     "grade": false,
     "grade_id": "cell-f2094a4152fb083b",
     "locked": false,
     "schema_version": 3,
     "solution": true,
     "task": false
    }
   },
   "outputs": [
    {
     "name": "stdout",
     "output_type": "stream",
     "text": [
      "00010\n"
     ]
    }
   ],
   "source": [
    "#E2: Guarda la variable en una cadena  con 3 a la izquierda\n",
    "# el resultado debe ser '00010'\n",
    "entero = 10\n",
    "entero_con_ceros = f\"{entero:05d}\"\n",
    "print(entero_con_ceros)\n",
    "\n"
   ]
  },
  {
   "cell_type": "code",
   "execution_count": null,
   "id": "2fc92549",
   "metadata": {
    "deletable": false,
    "editable": false,
    "nbgrader": {
     "cell_type": "code",
     "checksum": "7467c0edf95ca318cc5150e8d547d5e2",
     "grade": true,
     "grade_id": "cell-3b7daf29fee7f039",
     "locked": true,
     "points": 1,
     "schema_version": 3,
     "solution": false,
     "task": false
    }
   },
   "outputs": [],
   "source": []
  },
  {
   "cell_type": "code",
   "execution_count": 8,
   "id": "c9940e99",
   "metadata": {
    "deletable": false,
    "nbgrader": {
     "cell_type": "code",
     "checksum": "e6340bc58aa13f022794a1533878509f",
     "grade": false,
     "grade_id": "cell-1f9f7285a55ed141",
     "locked": false,
     "schema_version": 3,
     "solution": true,
     "task": false
    }
   },
   "outputs": [
    {
     "name": "stdout",
     "output_type": "stream",
     "text": [
      "1.000000e+04\n"
     ]
    }
   ],
   "source": [
    "#E3: Guarda la variable en una cadena  y en formato exponencial\n",
    "# el resultado debe ser '1.000000e+04'\n",
    "numerote = 10_000\n",
    "numero_form_exp  = f\"{numerote:e}\"\n",
    "print(numero_form_exp)\n"
   ]
  },
  {
   "cell_type": "code",
   "execution_count": null,
   "id": "544383d0",
   "metadata": {
    "deletable": false,
    "editable": false,
    "nbgrader": {
     "cell_type": "code",
     "checksum": "4fbb00bc27d93b20f8950aab85c7254a",
     "grade": true,
     "grade_id": "cell-424b598fff3c554b",
     "locked": true,
     "points": 1,
     "schema_version": 3,
     "solution": false,
     "task": false
    }
   },
   "outputs": [],
   "source": []
  },
  {
   "cell_type": "code",
   "execution_count": 14,
   "id": "b15a3369",
   "metadata": {
    "deletable": false,
    "nbgrader": {
     "cell_type": "code",
     "checksum": "70c62fc27595cfb45b297cf32883c2ec",
     "grade": false,
     "grade_id": "cell-f5c0089d15106542",
     "locked": false,
     "schema_version": 3,
     "solution": true,
     "task": false
    }
   },
   "outputs": [
    {
     "name": "stdout",
     "output_type": "stream",
     "text": [
      "1e+04\n"
     ]
    }
   ],
   "source": [
    "#E4: Guarda la variable en una cadena  y en formato exponencial\n",
    "# el resultado debe ser '1e+04'\n",
    "diez_mil = 10_000\n",
    "diez_mil_exp  = f\"{diez_mil:.0e}\"\n",
    "print(diez_mil_exp)\n"
   ]
  },
  {
   "cell_type": "code",
   "execution_count": null,
   "id": "c1532d82",
   "metadata": {
    "deletable": false,
    "editable": false,
    "nbgrader": {
     "cell_type": "code",
     "checksum": "abd84bbf57e83009e69bf0b3e76cb65a",
     "grade": true,
     "grade_id": "cell-0cf7d90f6afb706a",
     "locked": true,
     "points": 1,
     "schema_version": 3,
     "solution": false,
     "task": false
    }
   },
   "outputs": [],
   "source": []
  },
  {
   "cell_type": "markdown",
   "id": "8931f475",
   "metadata": {
    "deletable": false,
    "editable": false,
    "nbgrader": {
     "cell_type": "markdown",
     "checksum": "fcf48de4ce120a6071d04c27a3127a55",
     "grade": false,
     "grade_id": "cell-8d9ac5ab0dd9014e",
     "locked": true,
     "schema_version": 3,
     "solution": false,
     "task": false
    }
   },
   "source": [
    "#E5: Rellena las XXX para crear la siguiente tabla\n",
    "\n",
    "Tabla del 5 en gatites:\n",
    "```python\n",
    "\n",
    "5 gatites x 2 = 10 gatites\n",
    "5 gatites x 3 = 15 gatites\n",
    "5 gatites x 4 = 20 gatites\n",
    "5 gatites x 5 = 25 gatites\n",
    "5 gatites x 6 = 30 gatites\n",
    "5 gatites x 7 = 35 gatites\n",
    "5 gatites x 8 = 40 gatites\n",
    "5 gatites x 9 = 45 gatites\n",
    "5 gatites x 10 = 50 gatites\n",
    "```"
   ]
  },
  {
   "cell_type": "code",
   "execution_count": 15,
   "id": "7cdda840",
   "metadata": {
    "deletable": false,
    "nbgrader": {
     "cell_type": "code",
     "checksum": "807963f6e22c9ffdbfd131245d1862b8",
     "grade": false,
     "grade_id": "cell-5241b5fa0c35fc15",
     "locked": false,
     "schema_version": 3,
     "solution": true,
     "task": false
    }
   },
   "outputs": [
    {
     "name": "stdout",
     "output_type": "stream",
     "text": [
      "Tabla del 5 en gatites:\n",
      "5 gatites x 2 = 10 gatites\n",
      "5 gatites x 3 = 15 gatites\n",
      "5 gatites x 4 = 20 gatites\n",
      "5 gatites x 5 = 25 gatites\n",
      "5 gatites x 6 = 30 gatites\n",
      "5 gatites x 7 = 35 gatites\n",
      "5 gatites x 8 = 40 gatites\n",
      "5 gatites x 9 = 45 gatites\n",
      "5 gatites x 10 = 50 gatites\n",
      "\n"
     ]
    }
   ],
   "source": [
    "#E5\n",
    "numero = 5\n",
    "tabla = f\"Tabla del {numero} en gatites:\\n\"\n",
    "for i in range(2, 11):\n",
    "    tabla += f\"{numero} gatites x {i} = {numero * i} gatites\\n\"\n",
    "\n",
    "print(tabla)\n"
   ]
  },
  {
   "cell_type": "code",
   "execution_count": null,
   "id": "e7be1e0f",
   "metadata": {
    "deletable": false,
    "editable": false,
    "nbgrader": {
     "cell_type": "code",
     "checksum": "0151e86043b3260f5025ddc8a5fa561f",
     "grade": true,
     "grade_id": "cell-3d477e6c224f41cb",
     "locked": true,
     "points": 1,
     "schema_version": 3,
     "solution": false,
     "task": false
    }
   },
   "outputs": [],
   "source": []
  },
  {
   "cell_type": "code",
   "execution_count": 19,
   "id": "85f4c07b",
   "metadata": {
    "deletable": false,
    "nbgrader": {
     "cell_type": "code",
     "checksum": "bf0945144de887abe6fef433e96b9564",
     "grade": false,
     "grade_id": "cell-efe0037c41d74111",
     "locked": false,
     "schema_version": 3,
     "solution": true,
     "task": false
    }
   },
   "outputs": [
    {
     "name": "stdout",
     "output_type": "stream",
     "text": [
      "Tabla de 5 en gatites:\n",
      "5 gatites x 2  = 10 gatites\n",
      "5 gatites x 3  = 15 gatites\n",
      "5 gatites x 4  = 20 gatites\n",
      "5 gatites x 5  = 25 gatites\n",
      "5 gatites x 6  = 30 gatites\n",
      "5 gatites x 7  = 35 gatites\n",
      "5 gatites x 8  = 40 gatites\n",
      "5 gatites x 9  = 45 gatites\n",
      "5 gatites x 10 = 50 gatites\n",
      "\n"
     ]
    }
   ],
   "source": [
    "#E6: Rellena las XXX para alinear\n",
    "#la tabla con el signo =\n",
    "numero = 5\n",
    "tabla_alineada = f\"Tabla de {numero} en gatites:\\n\"\n",
    "for i in range(2, 11):\n",
    "    tabla_alineada += f\"{numero} gatites x {i:<2} = {numero * i} gatites\\n\"\n",
    "    \n",
    "print(tabla_alineada)\n"
   ]
  },
  {
   "cell_type": "code",
   "execution_count": null,
   "id": "d7626422",
   "metadata": {
    "deletable": false,
    "editable": false,
    "nbgrader": {
     "cell_type": "code",
     "checksum": "7241383dec00285da3a145f9793cca77",
     "grade": true,
     "grade_id": "cell-532253938f223c07",
     "locked": true,
     "points": 1,
     "schema_version": 3,
     "solution": false,
     "task": false
    }
   },
   "outputs": [],
   "source": []
  },
  {
   "cell_type": "code",
   "execution_count": 18,
   "id": "c8fbba5d",
   "metadata": {
    "deletable": false,
    "nbgrader": {
     "cell_type": "code",
     "checksum": "5356627cd904fb8db72135e9cb459592",
     "grade": false,
     "grade_id": "cell-32834a4a5c18c73c",
     "locked": false,
     "schema_version": 3,
     "solution": true,
     "task": false
    }
   },
   "outputs": [
    {
     "name": "stdout",
     "output_type": "stream",
     "text": [
      "El total de 3 manzanas y 5 plátanos es $13.50.\n"
     ]
    }
   ],
   "source": [
    "#E7: Rellena las XXX para obtener el siguiente ouput:\n",
    "#El total de 3 manzanas y 5 plátanos es $13.50.\n",
    "p1 = \"manzanas\"\n",
    "precio_1 = 2.5\n",
    "cantidad_1 = 3\n",
    "\n",
    "p2 = \"plátanos\"\n",
    "precio_2 = 1.2\n",
    "cantidad_2 = 5\n",
    "\n",
    "total = precio_1 * cantidad_1 + precio_2 * cantidad_2\n",
    "resumen = f\"El total de {cantidad_1} {p1} y {cantidad_2} {p2} es ${total:.2f}.\"\n",
    "\n",
    "print(resumen)  # Output: El total de 3 manzanas y 5 plátanos es $13.50.\n",
    "\n"
   ]
  },
  {
   "cell_type": "code",
   "execution_count": null,
   "id": "d66d8362",
   "metadata": {
    "deletable": false,
    "editable": false,
    "nbgrader": {
     "cell_type": "code",
     "checksum": "c7dc5309f5000977913b5b0711201685",
     "grade": true,
     "grade_id": "cell-858a999bb5ab1501",
     "locked": true,
     "points": 1,
     "schema_version": 3,
     "solution": false,
     "task": false
    }
   },
   "outputs": [],
   "source": []
  }
 ],
 "metadata": {
  "kernelspec": {
   "display_name": "Python 3 (ipykernel)",
   "language": "python",
   "name": "python3"
  },
  "language_info": {
   "codemirror_mode": {
    "name": "ipython",
    "version": 3
   },
   "file_extension": ".py",
   "mimetype": "text/x-python",
   "name": "python",
   "nbconvert_exporter": "python",
   "pygments_lexer": "ipython3",
   "version": "3.10.6"
  }
 },
 "nbformat": 4,
 "nbformat_minor": 5
}
