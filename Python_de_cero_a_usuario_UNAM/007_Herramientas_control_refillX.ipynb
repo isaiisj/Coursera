{
 "cells": [
  {
   "cell_type": "markdown",
   "id": "8b872c4b",
   "metadata": {
    "deletable": false,
    "editable": false,
    "nbgrader": {
     "cell_type": "markdown",
     "checksum": "94a092107a6fd9b4690482363cd0e928",
     "grade": false,
     "grade_id": "cell-10c85a0924f27b4f",
     "locked": true,
     "schema_version": 3,
     "solution": false,
     "task": false
    }
   },
   "source": [
    "# Ejercicio de herramientas de control\n",
    "\n",
    "En cada celda se te pide algo diferente, reemplaza las X\n",
    "para poder lograr el objetivo.\n",
    "\n",
    "Por ejemplo:\n",
    "\n",
    "```python \n",
    "# Escribe un for que imprima del 0 a 10 y use la variable i para el conteo\n",
    "for X in range(X):\n",
    "    print(X)\n",
    "    \n",
    "```\n",
    "debe ser:\n",
    "\n",
    "\n",
    "```python \n",
    "# Escribe un for que imprima del 0 a 10 y use la variable i para el conteo\n",
    "for i in range(11):\n",
    "    print(i)\n",
    "    \n",
    "```\n",
    "Si hay código extra, no lo borres, solo reemplaza las X por lo que debe\n",
    "ser para lograr el objetivo de cada celda."
   ]
  },
  {
   "cell_type": "code",
   "execution_count": 1,
   "id": "237a0341",
   "metadata": {
    "deletable": false,
    "nbgrader": {
     "cell_type": "code",
     "checksum": "d24f71b8f0b8b955df298497683f3dad",
     "grade": false,
     "grade_id": "cell-4f3db00c76c0ea2c",
     "locked": false,
     "schema_version": 3,
     "solution": true,
     "task": false
    }
   },
   "outputs": [
    {
     "name": "stdout",
     "output_type": "stream",
     "text": [
      "10\n",
      "20\n"
     ]
    }
   ],
   "source": [
    "# E1: Escribe un for que vaya del 0 al 20 y que imprima solamente 10 y 20\n",
    "# usando 'if'\n",
    "\n",
    "lista = []\n",
    "for i in range(1,21):\n",
    "    lista.append(i)\n",
    "    if i == 10:\n",
    "        print(i)\n",
    "        a1 = i\n",
    "    if i == 20:\n",
    "        print(i)\n",
    "        a2 = i\n"
   ]
  },
  {
   "cell_type": "code",
   "execution_count": null,
   "id": "b978eb8f",
   "metadata": {
    "deletable": false,
    "editable": false,
    "nbgrader": {
     "cell_type": "code",
     "checksum": "885d40030fc54e3454207c85a5ba7879",
     "grade": true,
     "grade_id": "cell-71dae4c706bdfd02",
     "locked": true,
     "points": 1,
     "schema_version": 3,
     "solution": false,
     "task": false
    }
   },
   "outputs": [],
   "source": []
  },
  {
   "cell_type": "code",
   "execution_count": 2,
   "id": "794dd3e8",
   "metadata": {
    "deletable": false,
    "nbgrader": {
     "cell_type": "code",
     "checksum": "1b4cdb668ef371a8b18e92edcc0ed20a",
     "grade": false,
     "grade_id": "cell-c70450364a69749f",
     "locked": false,
     "schema_version": 3,
     "solution": true,
     "task": false
    }
   },
   "outputs": [
    {
     "name": "stdout",
     "output_type": "stream",
     "text": [
      "0.5\n",
      "1.0\n",
      "1.5\n",
      "2.0\n",
      "2.5\n",
      "3.0\n",
      "3.5\n",
      "False\n"
     ]
    }
   ],
   "source": [
    "# E2: Corrige el while para sume una cantidad 0.5 en a3\n",
    "# y se detenga cambiando la condicion cuando a3 sea mayor o igual a 3.5\n",
    "# defina condicion = False\n",
    "\n",
    "condicion = True\n",
    "a3 = 0\n",
    "while condicion:\n",
    "    a3 = a3 + 0.5\n",
    "    print(a3)\n",
    "    if a3 >= 3.5:\n",
    "        condicion = False\n",
    "print(condicion)\n",
    "\n"
   ]
  },
  {
   "cell_type": "code",
   "execution_count": null,
   "id": "9b733f00",
   "metadata": {
    "deletable": false,
    "editable": false,
    "nbgrader": {
     "cell_type": "code",
     "checksum": "cb048a8f87ba84592205e0e6efc7ce4c",
     "grade": true,
     "grade_id": "cell-c4924e3677aaa234",
     "locked": true,
     "points": 1,
     "schema_version": 3,
     "solution": false,
     "task": false
    }
   },
   "outputs": [],
   "source": []
  },
  {
   "cell_type": "code",
   "execution_count": 4,
   "id": "4193a395",
   "metadata": {
    "deletable": false,
    "nbgrader": {
     "cell_type": "code",
     "checksum": "a4d8889bb0ed81fc5bdb14c93c68fa24",
     "grade": false,
     "grade_id": "cell-c9efdaadb3fb9e9b",
     "locked": false,
     "schema_version": 3,
     "solution": true,
     "task": false
    }
   },
   "outputs": [
    {
     "name": "stdout",
     "output_type": "stream",
     "text": [
      "verde\n"
     ]
    }
   ],
   "source": [
    "# E3: Itera la lista de colores dada y haz que imprima\n",
    "# cuando pasa por el color verde\n",
    "\n",
    "colores = [\"amarillo\",\"negro\",\"blanco\",\"rojo\",\"verde\",\"morado\",\"azul\"]\n",
    "for color in colores:\n",
    "    if color == \"verde\":\n",
    "        a4 = color\n",
    "        print(color)\n"
   ]
  },
  {
   "cell_type": "code",
   "execution_count": null,
   "id": "14b1fde0",
   "metadata": {
    "deletable": false,
    "editable": false,
    "nbgrader": {
     "cell_type": "code",
     "checksum": "62819b9b04674621738d478fd70a2910",
     "grade": true,
     "grade_id": "cell-c5261a066072a4db",
     "locked": true,
     "points": 1,
     "schema_version": 3,
     "solution": false,
     "task": false
    }
   },
   "outputs": [],
   "source": []
  },
  {
   "cell_type": "code",
   "execution_count": 12,
   "id": "7cddb0bc",
   "metadata": {
    "deletable": false,
    "nbgrader": {
     "cell_type": "code",
     "checksum": "cefc4ec5eb0d90d1995c564284b83bb5",
     "grade": false,
     "grade_id": "cell-50856109e4378ef7",
     "locked": false,
     "schema_version": 3,
     "solution": true,
     "task": false
    }
   },
   "outputs": [
    {
     "name": "stdout",
     "output_type": "stream",
     "text": [
      "impar\n"
     ]
    },
    {
     "data": {
      "text/plain": [
       "'impar'"
      ]
     },
     "execution_count": 12,
     "metadata": {},
     "output_type": "execute_result"
    }
   ],
   "source": [
    "# E4: Arregla el condicionante del if para que imprima que \n",
    "# la variable numero contiene un entero par.\n",
    "numero = 5\n",
    "\n",
    "def par_impar():\n",
    "    if numero%2 == 0:\n",
    "        a5 = \"par\"\n",
    "    else:\n",
    "        a5 = \"impar\"\n",
    "    print(a5)\n",
    "    return a5\n",
    "\n",
    "par_impar()\n"
   ]
  },
  {
   "cell_type": "code",
   "execution_count": null,
   "id": "8ad06f1c",
   "metadata": {
    "deletable": false,
    "editable": false,
    "nbgrader": {
     "cell_type": "code",
     "checksum": "135267bfa958dbea5f27b609240792a9",
     "grade": true,
     "grade_id": "cell-aacfaf1a5256e73c",
     "locked": true,
     "points": 1,
     "schema_version": 3,
     "solution": false,
     "task": false
    }
   },
   "outputs": [],
   "source": []
  },
  {
   "cell_type": "code",
   "execution_count": 11,
   "id": "ed33bc1d",
   "metadata": {
    "deletable": false,
    "nbgrader": {
     "cell_type": "code",
     "checksum": "b590c80c8ef89352dc979510e04e76a2",
     "grade": false,
     "grade_id": "cell-935f3a85ff8cea9a",
     "locked": false,
     "schema_version": 3,
     "solution": true,
     "task": false
    }
   },
   "outputs": [
    {
     "name": "stdout",
     "output_type": "stream",
     "text": [
      "Aprobado\n"
     ]
    }
   ],
   "source": [
    "# E5: Arregla los valores de los números en \n",
    "# la función para que si le das\n",
    "# una calificación (un número entre 0 y 100) imprima lo siguiente:\n",
    "# 1) \"Excelente\" si la calificación es 90 o más.\n",
    "# 2) Devuelva \"Aprobado\" si la calificación es 60 o más, \n",
    "# 3) \"Reprobado\" si es menor a 60 \n",
    "# Prueba con la calificacion 60\n",
    "calif = 60\n",
    "\n",
    "\n",
    "def califica():\n",
    "    if calif >= 90:\n",
    "        texto =  \"Excelente\"\n",
    "    elif calif >= 60:\n",
    "        texto = \"Aprobado\"\n",
    "    else:\n",
    "        texto = \"Reprobado\"\n",
    "    return texto\n",
    "\n",
    "texto = califica()\n",
    "print(texto)\n",
    "\n"
   ]
  },
  {
   "cell_type": "code",
   "execution_count": null,
   "id": "1209f2c8",
   "metadata": {
    "deletable": false,
    "editable": false,
    "nbgrader": {
     "cell_type": "code",
     "checksum": "af543ee73821cc39e5907a24fa47e4b0",
     "grade": true,
     "grade_id": "cell-7e6e036050dbc267",
     "locked": true,
     "points": 0,
     "schema_version": 3,
     "solution": false,
     "task": false
    }
   },
   "outputs": [],
   "source": []
  },
  {
   "cell_type": "code",
   "execution_count": null,
   "id": "94106c2a",
   "metadata": {},
   "outputs": [],
   "source": []
  }
 ],
 "metadata": {
  "kernelspec": {
   "display_name": "Python 3 (ipykernel)",
   "language": "python",
   "name": "python3"
  },
  "language_info": {
   "codemirror_mode": {
    "name": "ipython",
    "version": 3
   },
   "file_extension": ".py",
   "mimetype": "text/x-python",
   "name": "python",
   "nbconvert_exporter": "python",
   "pygments_lexer": "ipython3",
   "version": "3.10.6"
  }
 },
 "nbformat": 4,
 "nbformat_minor": 5
}
