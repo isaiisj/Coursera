{
 "cells": [
  {
   "cell_type": "markdown",
   "id": "4c7c0165",
   "metadata": {
    "deletable": false,
    "editable": false,
    "nbgrader": {
     "cell_type": "markdown",
     "checksum": "9de81cf159efa56ff1a7ff7c0b93f982",
     "grade": false,
     "grade_id": "cell-6bf0441644ae619d",
     "locked": true,
     "schema_version": 3,
     "solution": false,
     "task": false
    }
   },
   "source": [
    "# Ejercicio de list comprehension\n",
    "\n",
    "En cada celda se te pide algo diferente, reemplaza las X\n",
    "para poder lograr el objetivo.\n",
    "\n",
    "Por ejemplo:\n",
    "\n",
    "```python \n",
    "# Reemplaza las X en el código para usar una list comprehension que vaya del 0 al 10\n",
    "\n",
    "b = [X for X in range(XX)]\n",
    "    \n",
    "```\n",
    "debe ser:\n",
    "\n",
    "\n",
    "```python \n",
    "b = [i for i in range(11)]\n",
    "    \n",
    "```\n",
    "Si hay código extra, no lo borres, solo reemplaza las XXX\n",
    "para lograr el objetivo de cada celda."
   ]
  },
  {
   "cell_type": "code",
   "execution_count": 5,
   "id": "38030606",
   "metadata": {
    "deletable": false,
    "nbgrader": {
     "cell_type": "code",
     "checksum": "c6f8902fcec525ab0ee403e953f32f3a",
     "grade": false,
     "grade_id": "cell-19dc1c9c837204af",
     "locked": false,
     "schema_version": 3,
     "solution": true,
     "task": false
    }
   },
   "outputs": [
    {
     "name": "stdout",
     "output_type": "stream",
     "text": [
      "['BLANCO', 'AZUL', 'CAFE']\n"
     ]
    }
   ],
   "source": [
    "#E1: Rellena lo necesario para que la list comprehension \n",
    "# colores = [\"blanco\",\"rojo\",\"azul\",\"negro\",\"cafe\"]\n",
    "# contenga solo las palabras que tienen una \"a\"\n",
    "# y se escriban en mayúsculas\n",
    "#  ['BLANCO', 'AZUL', 'CAFE']\n",
    "\n",
    "colores   = [\"blanco\",\"rojo\",\"azul\",\"negro\",\"cafe\"]\n",
    "colores_a = [color.upper() for color in colores if \"a\" in color]\n",
    "print(colores_a)\n"
   ]
  },
  {
   "cell_type": "code",
   "execution_count": null,
   "id": "aec1ebf7",
   "metadata": {
    "deletable": false,
    "editable": false,
    "nbgrader": {
     "cell_type": "code",
     "checksum": "c499793c3195c7233dffc6352cbe9836",
     "grade": true,
     "grade_id": "cell-b43699e0b7ca9ce9",
     "locked": true,
     "points": 1,
     "schema_version": 3,
     "solution": false,
     "task": false
    }
   },
   "outputs": [],
   "source": []
  },
  {
   "cell_type": "code",
   "execution_count": 8,
   "id": "4483390b",
   "metadata": {
    "deletable": false,
    "nbgrader": {
     "cell_type": "code",
     "checksum": "63dd435f1ec73d7dc06a249843d22881",
     "grade": false,
     "grade_id": "cell-fc9c43e0001ba2b9",
     "locked": false,
     "schema_version": 3,
     "solution": true,
     "task": false
    }
   },
   "outputs": [
    {
     "data": {
      "text/plain": [
       "[0, 1, 4, 9, 16, 25, 36, 49, 64, 81]"
      ]
     },
     "execution_count": 8,
     "metadata": {},
     "output_type": "execute_result"
    }
   ],
   "source": [
    "#E2: Crea una rango  de que contenga números del 1 al 9 \n",
    "# y eleva cada número al cuadrado para obtener\n",
    "# [0, 1, 4, 9, 16, 25, 36, 49, 64, 81]\n",
    "\n",
    "cuadrados = [numero**2 for numero in range(10)]\n",
    "cuadrados\n"
   ]
  },
  {
   "cell_type": "code",
   "execution_count": null,
   "id": "dc09cb98",
   "metadata": {
    "deletable": false,
    "editable": false,
    "nbgrader": {
     "cell_type": "code",
     "checksum": "539d9d860b9f5a5d59abe8259b2329a5",
     "grade": true,
     "grade_id": "cell-fa83d2e92f17f710",
     "locked": true,
     "points": 1,
     "schema_version": 3,
     "solution": false,
     "task": false
    }
   },
   "outputs": [],
   "source": []
  },
  {
   "cell_type": "code",
   "execution_count": 11,
   "id": "92bfcf7c",
   "metadata": {
    "deletable": false,
    "nbgrader": {
     "cell_type": "code",
     "checksum": "5ed3cbd03e69e9b2dce885365e98ce25",
     "grade": false,
     "grade_id": "cell-1fcaa2c1e1eedc73",
     "locked": false,
     "schema_version": 3,
     "solution": true,
     "task": false
    }
   },
   "outputs": [
    {
     "data": {
      "text/plain": [
       "[(0, 0),\n",
       " (1, 1),\n",
       " (2, 4),\n",
       " (3, 9),\n",
       " (4, 16),\n",
       " (5, 25),\n",
       " (6, 36),\n",
       " (7, 49),\n",
       " (8, 64),\n",
       " (9, 81)]"
      ]
     },
     "execution_count": 11,
     "metadata": {},
     "output_type": "execute_result"
    }
   ],
   "source": [
    "#E3: Crea una lista de tuplas que contenga  (numero, numero al cuadrado) \n",
    "#del 1 al 9 con un\n",
    "# [(0, 0),(1, 1),(2, 4),(3, 9),(4, 16),(5, 25),(6, 36),(7, 49),(8, 64),(9, 81)]\n",
    "tuplas = [(numero,numero**2) for numero in range(10)]\n",
    "tuplas\n"
   ]
  },
  {
   "cell_type": "code",
   "execution_count": null,
   "id": "a4bed1f7",
   "metadata": {
    "deletable": false,
    "editable": false,
    "nbgrader": {
     "cell_type": "code",
     "checksum": "a2d07ebdbaa5dfb07befa6115282f5ba",
     "grade": true,
     "grade_id": "cell-bbeb2dc4cc1687b1",
     "locked": true,
     "points": 1,
     "schema_version": 3,
     "solution": false,
     "task": false
    }
   },
   "outputs": [],
   "source": []
  },
  {
   "cell_type": "markdown",
   "id": "6b479112",
   "metadata": {
    "deletable": false,
    "editable": false,
    "nbgrader": {
     "cell_type": "markdown",
     "checksum": "848f392cdf47438e57c4744c7ef60add",
     "grade": false,
     "grade_id": "cell-6eeb2a342d296e4b",
     "locked": true,
     "schema_version": 3,
     "solution": false,
     "task": false
    }
   },
   "source": [
    "E4: Aplana la matriz para pasar de \n",
    "```python \n",
    "matriz = [\n",
    "    [1, 2, 3],\n",
    "    [4, 5, 6],\n",
    "    [7, 8, 9]\n",
    "]\n",
    "    \n",
    "```\n",
    "a\n",
    "\n",
    "```python \n",
    "matriz_aplanada = [1, 2, 3, 4, 5, 6, 7, 8, 9]    \n",
    "```"
   ]
  },
  {
   "cell_type": "code",
   "execution_count": 13,
   "id": "fea73e83",
   "metadata": {
    "deletable": false,
    "nbgrader": {
     "cell_type": "code",
     "checksum": "833e2b9bec047b07323dadd9bddad173",
     "grade": false,
     "grade_id": "cell-1d093e1cb5783941",
     "locked": false,
     "schema_version": 3,
     "solution": true,
     "task": false
    }
   },
   "outputs": [
    {
     "data": {
      "text/plain": [
       "[1, 2, 3, 4, 5, 6, 7, 8, 9]"
      ]
     },
     "execution_count": 13,
     "metadata": {},
     "output_type": "execute_result"
    }
   ],
   "source": [
    "matriz = [\n",
    "    [1, 2, 3],\n",
    "    [4, 5, 6],\n",
    "    [7, 8, 9]\n",
    "]\n",
    "\n",
    "matriz_aplanada = [numero for renglon in matriz for numero in renglon]\n",
    "matriz_aplanada\n",
    "\n"
   ]
  },
  {
   "cell_type": "code",
   "execution_count": null,
   "id": "930350d0",
   "metadata": {
    "deletable": false,
    "editable": false,
    "nbgrader": {
     "cell_type": "code",
     "checksum": "71f8e6a0631ee01e933dec18ff51b735",
     "grade": true,
     "grade_id": "cell-97ba340c88d4f288",
     "locked": true,
     "points": 1,
     "schema_version": 3,
     "solution": false,
     "task": false
    }
   },
   "outputs": [],
   "source": []
  },
  {
   "cell_type": "code",
   "execution_count": 30,
   "id": "aa31ed77",
   "metadata": {
    "deletable": false,
    "nbgrader": {
     "cell_type": "code",
     "checksum": "225e7f364fddee84844e283060184aff",
     "grade": false,
     "grade_id": "cell-78ae2f2f8b0172f0",
     "locked": false,
     "schema_version": 3,
     "solution": true,
     "task": false
    }
   },
   "outputs": [
    {
     "data": {
      "text/plain": [
       "['appl', 'bana', 'cher', 'kiwi']"
      ]
     },
     "execution_count": 30,
     "metadata": {},
     "output_type": "execute_result"
    }
   ],
   "source": [
    "# E5:  Dada la lista de palabras \n",
    "# [\"apple\", \"banana\", \"cherry\", \"kiwi\"], \n",
    "# crea una lista llamada cortas que contenga solo las palabras con 4 caracteres o menos \n",
    "# y guardalas en una lista que se llame cortas\n",
    "\n",
    "frutas = [\"apple\", \"banana\", \"cherry\", \"kiwi\"]\n",
    "cortas = [word[0:4] if len(word) > 4 else word for word in frutas ]\n",
    "\n",
    "cortas\n"
   ]
  },
  {
   "cell_type": "code",
   "execution_count": null,
   "id": "58e0faef",
   "metadata": {
    "deletable": false,
    "editable": false,
    "nbgrader": {
     "cell_type": "code",
     "checksum": "ba9ef27819ed0a7dc7536eb3362c06e1",
     "grade": true,
     "grade_id": "cell-cdf2f8b60e7bb3f9",
     "locked": true,
     "points": 1,
     "schema_version": 3,
     "solution": false,
     "task": false
    }
   },
   "outputs": [],
   "source": []
  }
 ],
 "metadata": {
  "kernelspec": {
   "display_name": "Python 3 (ipykernel)",
   "language": "python",
   "name": "python3"
  },
  "language_info": {
   "codemirror_mode": {
    "name": "ipython",
    "version": 3
   },
   "file_extension": ".py",
   "mimetype": "text/x-python",
   "name": "python",
   "nbconvert_exporter": "python",
   "pygments_lexer": "ipython3",
   "version": "3.10.6"
  }
 },
 "nbformat": 4,
 "nbformat_minor": 5
}
