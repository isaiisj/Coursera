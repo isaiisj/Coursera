{
 "cells": [
  {
   "cell_type": "markdown",
   "id": "3b1b2fd7",
   "metadata": {
    "deletable": false,
    "editable": false,
    "nbgrader": {
     "cell_type": "markdown",
     "checksum": "1a0492cc351aa0f040bc76da0056be0e",
     "grade": false,
     "grade_id": "cell-5f84eab3727922c1",
     "locked": true,
     "schema_version": 3,
     "solution": false,
     "task": false
    }
   },
   "source": [
    "# Ejercicio de tipos de variables\n",
    "\n",
    "Reemplaza las XXX con un elemento que vaya acorde al nombre de la variable.\n",
    "Si hay código extra, no lo borres, solo reemplaza las X por lo que debe\n",
    "ser para lograr el objetivo de cada celda."
   ]
  },
  {
   "cell_type": "code",
   "execution_count": 1,
   "id": "f9cf62e3",
   "metadata": {
    "deletable": false,
    "nbgrader": {
     "cell_type": "code",
     "checksum": "5e2e136bedba3d45247f46e8580eef4f",
     "grade": false,
     "grade_id": "cell-7bbbe172f348bb38",
     "locked": false,
     "schema_version": 3,
     "solution": true,
     "task": false
    }
   },
   "outputs": [],
   "source": [
    "# Ejercicio 1:\n",
    "flotante    = 2.0\n"
   ]
  },
  {
   "cell_type": "code",
   "execution_count": null,
   "id": "1be1217f",
   "metadata": {
    "deletable": false,
    "editable": false,
    "nbgrader": {
     "cell_type": "code",
     "checksum": "07bea820109408dd8376388d0a01dd07",
     "grade": true,
     "grade_id": "cell-8b85aab6e333be95",
     "locked": true,
     "points": 1,
     "schema_version": 3,
     "solution": false,
     "task": false
    }
   },
   "outputs": [],
   "source": []
  },
  {
   "cell_type": "code",
   "execution_count": 3,
   "id": "8a90bbf5",
   "metadata": {
    "deletable": false,
    "nbgrader": {
     "cell_type": "code",
     "checksum": "ef2834ae471540782691eb656ec11ac5",
     "grade": false,
     "grade_id": "cell-3b159fb02bd56967",
     "locked": false,
     "schema_version": 3,
     "solution": true,
     "task": false
    }
   },
   "outputs": [],
   "source": [
    "# Ejercicio 2\n",
    "\n",
    "complejo    = 2. + 3j\n",
    "\n"
   ]
  },
  {
   "cell_type": "code",
   "execution_count": null,
   "id": "4c778d9d",
   "metadata": {
    "deletable": false,
    "editable": false,
    "nbgrader": {
     "cell_type": "code",
     "checksum": "882b35272f29883fd42f54c37528d7b9",
     "grade": true,
     "grade_id": "cell-6261de784db9e4f6",
     "locked": true,
     "points": 1,
     "schema_version": 3,
     "solution": false,
     "task": false
    }
   },
   "outputs": [],
   "source": []
  },
  {
   "cell_type": "code",
   "execution_count": 4,
   "id": "563b3bc1",
   "metadata": {
    "deletable": false,
    "nbgrader": {
     "cell_type": "code",
     "checksum": "1220def3313965ed57c91e231bf00972",
     "grade": false,
     "grade_id": "cell-a4c87a37463ca92a",
     "locked": false,
     "schema_version": 3,
     "solution": true,
     "task": false
    }
   },
   "outputs": [],
   "source": [
    "# Ejercicio 3\n",
    "\n",
    "cadena      = \"Hola mundo\"\n"
   ]
  },
  {
   "cell_type": "code",
   "execution_count": null,
   "id": "30d299ea",
   "metadata": {
    "deletable": false,
    "editable": false,
    "nbgrader": {
     "cell_type": "code",
     "checksum": "fe223b2875ef17aeec9a384b59b24a39",
     "grade": true,
     "grade_id": "cell-3bd60c62c4aface7",
     "locked": true,
     "points": 1,
     "schema_version": 3,
     "solution": false,
     "task": false
    }
   },
   "outputs": [],
   "source": []
  },
  {
   "cell_type": "code",
   "execution_count": 5,
   "id": "f55bb072",
   "metadata": {
    "deletable": false,
    "nbgrader": {
     "cell_type": "code",
     "checksum": "420382217cbe43dc0fdfc7574401c991",
     "grade": false,
     "grade_id": "cell-4275ec22804d34a0",
     "locked": false,
     "schema_version": 3,
     "solution": true,
     "task": false
    }
   },
   "outputs": [],
   "source": [
    "# Ejercicio 4\n",
    "\n",
    "boleano     = True\n"
   ]
  },
  {
   "cell_type": "code",
   "execution_count": null,
   "id": "e18faaa0",
   "metadata": {
    "deletable": false,
    "editable": false,
    "nbgrader": {
     "cell_type": "code",
     "checksum": "55595daf6072df5c1f2b618fd0529251",
     "grade": true,
     "grade_id": "cell-134cbcd6161cadd1",
     "locked": true,
     "points": 1,
     "schema_version": 3,
     "solution": false,
     "task": false
    }
   },
   "outputs": [],
   "source": []
  },
  {
   "cell_type": "code",
   "execution_count": 6,
   "id": "2664f57c",
   "metadata": {
    "deletable": false,
    "nbgrader": {
     "cell_type": "code",
     "checksum": "c5e2c51f89750359227589a52116dbfe",
     "grade": false,
     "grade_id": "cell-a73ca9b595fa84aa",
     "locked": false,
     "schema_version": 3,
     "solution": true,
     "task": false
    }
   },
   "outputs": [],
   "source": [
    "# Ejercicio 5\n",
    "\n",
    "tupla       = (5,'A',True)\n"
   ]
  },
  {
   "cell_type": "code",
   "execution_count": null,
   "id": "0b488753",
   "metadata": {
    "deletable": false,
    "editable": false,
    "nbgrader": {
     "cell_type": "code",
     "checksum": "5dafd357b752fbaaae233a0fc9cc56a2",
     "grade": true,
     "grade_id": "cell-6f1851ba51054a62",
     "locked": true,
     "points": 1,
     "schema_version": 3,
     "solution": false,
     "task": false
    }
   },
   "outputs": [],
   "source": []
  },
  {
   "cell_type": "code",
   "execution_count": 7,
   "id": "552d2ab3",
   "metadata": {
    "deletable": false,
    "nbgrader": {
     "cell_type": "code",
     "checksum": "f6816b24d0ec019c9a97eb850b6a1376",
     "grade": false,
     "grade_id": "cell-4370c5bb045b85d4",
     "locked": false,
     "schema_version": 3,
     "solution": true,
     "task": false
    }
   },
   "outputs": [],
   "source": [
    "# Ejercicio 6\n",
    "\n",
    "lista       = [2,3,True,'A',\"Hello\"]\n",
    "\n",
    "\n"
   ]
  },
  {
   "cell_type": "code",
   "execution_count": null,
   "id": "de87b081",
   "metadata": {
    "deletable": false,
    "editable": false,
    "nbgrader": {
     "cell_type": "code",
     "checksum": "24fa230324df087909169b3bea2dfd19",
     "grade": true,
     "grade_id": "cell-65f02c67b30e11bf",
     "locked": true,
     "points": 1,
     "schema_version": 3,
     "solution": false,
     "task": false
    }
   },
   "outputs": [],
   "source": []
  },
  {
   "cell_type": "code",
   "execution_count": 11,
   "id": "8ed8838f",
   "metadata": {
    "deletable": false,
    "nbgrader": {
     "cell_type": "code",
     "checksum": "98cf58cb4c845476453e328f340d7069",
     "grade": false,
     "grade_id": "cell-52cb71c928e7af1b",
     "locked": false,
     "schema_version": 3,
     "solution": true,
     "task": false
    }
   },
   "outputs": [],
   "source": [
    "# Ejercicio 7\n",
    "\n",
    "diccionario = {\"A\":1,\"kevin\":\"Alex\",\"B\":3}\n",
    "\n",
    "\n"
   ]
  },
  {
   "cell_type": "code",
   "execution_count": null,
   "id": "5bd7d514",
   "metadata": {
    "deletable": false,
    "editable": false,
    "nbgrader": {
     "cell_type": "code",
     "checksum": "e77381a6ed9831bdbbdcdc7d09782e8b",
     "grade": true,
     "grade_id": "cell-30c734117e2cfe9d",
     "locked": true,
     "points": 1,
     "schema_version": 3,
     "solution": false,
     "task": false
    }
   },
   "outputs": [],
   "source": []
  },
  {
   "cell_type": "code",
   "execution_count": 12,
   "id": "f1925dc3",
   "metadata": {
    "deletable": false,
    "nbgrader": {
     "cell_type": "code",
     "checksum": "8f963aadec8e0a90090703c6ab2315dc",
     "grade": false,
     "grade_id": "cell-5465a01b0f4cb342",
     "locked": false,
     "schema_version": 3,
     "solution": true,
     "task": false
    }
   },
   "outputs": [],
   "source": [
    "# Ejercicio 8\n",
    "# Crea una lista que en el primer elemento tenga una lista [1,2]\n",
    "# y en el segundo elemento una tupla (\"1\",\"2\")\n",
    "tupla_lista = [[1,2],(\"1\",\"2\")]\n",
    "\n"
   ]
  },
  {
   "cell_type": "code",
   "execution_count": null,
   "id": "446b123e",
   "metadata": {
    "deletable": false,
    "editable": false,
    "nbgrader": {
     "cell_type": "code",
     "checksum": "c1a26d627f37dc3823e9dcceea5269d6",
     "grade": true,
     "grade_id": "cell-b067890fe47e2202",
     "locked": true,
     "points": 1,
     "schema_version": 3,
     "solution": false,
     "task": false
    }
   },
   "outputs": [],
   "source": []
  },
  {
   "cell_type": "code",
   "execution_count": 13,
   "id": "c6aff9fc",
   "metadata": {
    "deletable": false,
    "nbgrader": {
     "cell_type": "code",
     "checksum": "7ae5895d5048a7ae8923bf99af4bfb8d",
     "grade": false,
     "grade_id": "cell-32e71365bb7b306f",
     "locked": false,
     "schema_version": 3,
     "solution": true,
     "task": false
    }
   },
   "outputs": [],
   "source": [
    "# Ejercicio 9 \n",
    "# Reemplaza las XXX para crear un diccionario.\n",
    "# El diccionario debe tener un elemento  'numeros' que contiene\n",
    "# los siguientes números en una lista en este orden 1,2,3,4 \n",
    "\n",
    "diccionario_lista = {'numeros':[1,2,3,4]}\n",
    "\n"
   ]
  },
  {
   "cell_type": "code",
   "execution_count": null,
   "id": "a3dd74e4",
   "metadata": {
    "deletable": false,
    "editable": false,
    "nbgrader": {
     "cell_type": "code",
     "checksum": "7503dccb217d056859c9edb496220038",
     "grade": true,
     "grade_id": "cell-9672295e699c368c",
     "locked": true,
     "points": 1,
     "schema_version": 3,
     "solution": false,
     "task": false
    }
   },
   "outputs": [],
   "source": []
  }
 ],
 "metadata": {
  "kernelspec": {
   "display_name": "Python 3 (ipykernel)",
   "language": "python",
   "name": "python3"
  },
  "language_info": {
   "codemirror_mode": {
    "name": "ipython",
    "version": 3
   },
   "file_extension": ".py",
   "mimetype": "text/x-python",
   "name": "python",
   "nbconvert_exporter": "python",
   "pygments_lexer": "ipython3",
   "version": "3.10.6"
  }
 },
 "nbformat": 4,
 "nbformat_minor": 5
}
