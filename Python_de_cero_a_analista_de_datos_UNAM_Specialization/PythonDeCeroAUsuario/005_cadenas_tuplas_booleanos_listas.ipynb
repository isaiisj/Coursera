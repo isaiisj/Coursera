{
 "cells": [
  {
   "cell_type": "markdown",
   "id": "cbab8711",
   "metadata": {
    "deletable": false,
    "editable": false,
    "nbgrader": {
     "cell_type": "markdown",
     "checksum": "a2593147a120a2435c891c8efd5faf85",
     "grade": false,
     "grade_id": "cell-1995a2456f8af436",
     "locked": true,
     "schema_version": 3,
     "solution": false,
     "task": false
    }
   },
   "source": [
    "# Ejercicios con cadenas, tuplas, booleanos, listas\n",
    "Realiza lo que se te pide con las herramientas de Python\n",
    "\n",
    "Por ejemplo:\n",
    "\n",
    "```python \n",
    "# Usando Python, reemplaza las XXX para que la cadena cambie toda a letras mayúsculas. Cuida de no cambiar la variable donde se guarda el resultado.\n",
    "\n",
    "texto = 'Texto en MInúsculas'\n",
    "\n",
    "texto_m = texto.XXX()\n",
    "```\n",
    "debes hacer:\n",
    "\n",
    "\n",
    "```python \n",
    "# Usando Python, reemplaza las XXX para que la cadena cambie toda a letras mayúsculas. Cuida de no cambiar la variable donde se guarda el resultado.\n",
    "\n",
    "texto = 'Texto en MInúsculas'\n",
    "\n",
    "texto_m = texto.lower()\n",
    "texto_m\n",
    "'texto en minúsculas'\n",
    "```\n",
    "Si hay código extra, no lo borres, solo reemplaza las X por lo que debe\n",
    "ser para lograr el objetivo de cada celda."
   ]
  },
  {
   "cell_type": "code",
   "execution_count": 16,
   "id": "bbd21092",
   "metadata": {
    "deletable": false,
    "nbgrader": {
     "cell_type": "code",
     "checksum": "a49035a7ea3d288fb66d837897c05c7a",
     "grade": false,
     "grade_id": "cell-44ac746018b3578b",
     "locked": false,
     "schema_version": 3,
     "solution": true,
     "task": false
    }
   },
   "outputs": [],
   "source": [
    "#E1: Convierte todo el texto a minúsculas.\n",
    "e1   = 'Este TeXTo debe ir en minúscULAS'\n",
    "e1_m =  e1.lower() \n",
    "\n",
    "\n"
   ]
  },
  {
   "cell_type": "code",
   "execution_count": null,
   "id": "de9e6ec5",
   "metadata": {
    "deletable": false,
    "editable": false,
    "nbgrader": {
     "cell_type": "code",
     "checksum": "ed0b7b0d69df83d72cac3b487584b297",
     "grade": true,
     "grade_id": "cell-f07aec12c6e6cb29",
     "locked": true,
     "points": 1,
     "schema_version": 3,
     "solution": false,
     "task": false
    }
   },
   "outputs": [],
   "source": []
  },
  {
   "cell_type": "code",
   "execution_count": 17,
   "id": "9a623a1e",
   "metadata": {
    "deletable": false,
    "nbgrader": {
     "cell_type": "code",
     "checksum": "f5d813368d10975fd06875a45499c2e5",
     "grade": false,
     "grade_id": "cell-b9b0c8847133aed4",
     "locked": false,
     "schema_version": 3,
     "solution": true,
     "task": false
    }
   },
   "outputs": [],
   "source": [
    "#E2: Crea una lista de la cadena dada, el separador es '_', \n",
    "# reemplaza las XXX para lograrlo.\n",
    "#la lista debe ser \n",
    "#['grecia', 'diego', 'celeste', 'kevin', 'gaby', 'guillermo']\n",
    "\n",
    "e2   = 'grecia_diego_celeste_kevin_gaby_guillermo'\n",
    "e2_l = e2.split('_')\n",
    "\n",
    "\n"
   ]
  },
  {
   "cell_type": "code",
   "execution_count": null,
   "id": "2d5da518",
   "metadata": {
    "deletable": false,
    "editable": false,
    "nbgrader": {
     "cell_type": "code",
     "checksum": "ca995a0890fdcd840cca68160366f386",
     "grade": true,
     "grade_id": "cell-259c2a1f9c984ad2",
     "locked": true,
     "points": 1,
     "schema_version": 3,
     "solution": false,
     "task": false
    }
   },
   "outputs": [],
   "source": []
  },
  {
   "cell_type": "code",
   "execution_count": 18,
   "id": "490e750e",
   "metadata": {
    "deletable": false,
    "nbgrader": {
     "cell_type": "code",
     "checksum": "1fea49b1408a10bef97b2976c10d0a23",
     "grade": false,
     "grade_id": "cell-7ec5e1be84a4ae10",
     "locked": false,
     "schema_version": 3,
     "solution": true,
     "task": false
    }
   },
   "outputs": [],
   "source": [
    "#E3: Haz que el texto \n",
    "# 'bienvenida al curso' sea\n",
    "# 'Bienvenida Al Curso'\n",
    "# reemplazando las XXX \n",
    "e3 = 'bienvenida al curso'\n",
    "e3_t = e3.title()\n",
    "\n"
   ]
  },
  {
   "cell_type": "code",
   "execution_count": null,
   "id": "1f0babd2",
   "metadata": {
    "deletable": false,
    "editable": false,
    "nbgrader": {
     "cell_type": "code",
     "checksum": "b09c53d45c3e4ef62338ca8ae4b8be0a",
     "grade": true,
     "grade_id": "cell-52150170ba1973e4",
     "locked": true,
     "points": 1,
     "schema_version": 3,
     "solution": false,
     "task": false
    }
   },
   "outputs": [],
   "source": []
  },
  {
   "cell_type": "code",
   "execution_count": 19,
   "id": "4645452e",
   "metadata": {
    "deletable": false,
    "nbgrader": {
     "cell_type": "code",
     "checksum": "2767304626a90a49d6b910c052c4f890",
     "grade": false,
     "grade_id": "cell-26092aa22d533d58",
     "locked": false,
     "schema_version": 3,
     "solution": true,
     "task": false
    }
   },
   "outputs": [],
   "source": [
    "#E4: Convierte la lista en una tupla \n",
    "e4   = ['las','listas','son','mutables','y','las','tuplas','inmutables']\n",
    "e4_t = tuple(e4) \n",
    "\n"
   ]
  },
  {
   "cell_type": "code",
   "execution_count": null,
   "id": "63eeded0",
   "metadata": {
    "deletable": false,
    "editable": false,
    "nbgrader": {
     "cell_type": "code",
     "checksum": "2e80a57b73d07236bf947bcbad9cd072",
     "grade": true,
     "grade_id": "cell-fb3ac1ae538f1c2a",
     "locked": true,
     "points": 1,
     "schema_version": 3,
     "solution": false,
     "task": false
    }
   },
   "outputs": [],
   "source": []
  },
  {
   "cell_type": "code",
   "execution_count": 20,
   "id": "f71b2bb5",
   "metadata": {
    "deletable": false,
    "nbgrader": {
     "cell_type": "code",
     "checksum": "98a77a73d75efe825e2a5ac93e021904",
     "grade": false,
     "grade_id": "cell-401662705eb2ab27",
     "locked": false,
     "schema_version": 3,
     "solution": true,
     "task": false
    }
   },
   "outputs": [],
   "source": [
    "#E5: Escribe los valores de a y b para que la \n",
    "#comparación de a y b sea True\n",
    "a = 5\n",
    "b = 8\n",
    "comp_a_b = a < b\n",
    "\n"
   ]
  },
  {
   "cell_type": "code",
   "execution_count": null,
   "id": "3b56df14",
   "metadata": {
    "deletable": false,
    "editable": false,
    "nbgrader": {
     "cell_type": "code",
     "checksum": "604b0481b766f370515b2d6921338984",
     "grade": true,
     "grade_id": "cell-676ac2ca3ae12bdc",
     "locked": true,
     "points": 1,
     "schema_version": 3,
     "solution": false,
     "task": false
    }
   },
   "outputs": [],
   "source": []
  },
  {
   "cell_type": "code",
   "execution_count": 21,
   "id": "6532913f",
   "metadata": {
    "deletable": false,
    "nbgrader": {
     "cell_type": "code",
     "checksum": "8d7a83301cd358a1a2ad3e3161dad226",
     "grade": false,
     "grade_id": "cell-37f9fb842413526b",
     "locked": false,
     "schema_version": 3,
     "solution": true,
     "task": false
    }
   },
   "outputs": [],
   "source": [
    "#E6: Convierte tupla1 a lista escribiendo la orden correcta en XXX\n",
    "tupla = (0,1,2,3,4,5,6,7,8)\n",
    "lista  = list(tupla)\n",
    "\n"
   ]
  },
  {
   "cell_type": "code",
   "execution_count": null,
   "id": "cae5218e",
   "metadata": {
    "deletable": false,
    "editable": false,
    "nbgrader": {
     "cell_type": "code",
     "checksum": "71aa32e5557d35205193ecd965b35b40",
     "grade": true,
     "grade_id": "cell-4f70b6f2113651ba",
     "locked": true,
     "points": 1,
     "schema_version": 3,
     "solution": false,
     "task": false
    }
   },
   "outputs": [],
   "source": []
  },
  {
   "cell_type": "code",
   "execution_count": 29,
   "id": "53d232e0",
   "metadata": {
    "deletable": false,
    "nbgrader": {
     "cell_type": "code",
     "checksum": "4c6cf1d17625561ff8a83ddd94d33746",
     "grade": false,
     "grade_id": "cell-17c1795ec5d1b970",
     "locked": false,
     "schema_version": 3,
     "solution": true,
     "task": false
    }
   },
   "outputs": [],
   "source": [
    "#E7: Ordena la lista especificando el método \n",
    "lista_d = [0,4,5,7,1,3,4] \n",
    "lista_ordenada = lista_d.sort()\n"
   ]
  },
  {
   "cell_type": "code",
   "execution_count": null,
   "id": "eb67eafe",
   "metadata": {
    "deletable": false,
    "editable": false,
    "nbgrader": {
     "cell_type": "code",
     "checksum": "48dd6d98184bb425d11a2fd7f307ed5c",
     "grade": true,
     "grade_id": "cell-9fb7baf937109c99",
     "locked": true,
     "points": 1,
     "schema_version": 3,
     "solution": false,
     "task": false
    }
   },
   "outputs": [],
   "source": []
  },
  {
   "cell_type": "code",
   "execution_count": 27,
   "id": "a03f0090",
   "metadata": {
    "deletable": false,
    "nbgrader": {
     "cell_type": "code",
     "checksum": "1ec3eea2650bee4939b8b055e0dbcee8",
     "grade": false,
     "grade_id": "cell-ec4c9b0a0719cf89",
     "locked": false,
     "schema_version": 3,
     "solution": true,
     "task": false
    }
   },
   "outputs": [],
   "source": [
    "#E8: De la lista original, reemplaza las XXX para obtener\n",
    "# la lista siguiente [0, 2, 4, 6, 8, 10]\n",
    "lista_n = [0,1,2,3,4,5,6,7,8,9,10] \n",
    "lista_salteada = lista_n[::2]\n",
    "\n"
   ]
  },
  {
   "cell_type": "code",
   "execution_count": null,
   "id": "9c2f7f1b",
   "metadata": {
    "deletable": false,
    "editable": false,
    "nbgrader": {
     "cell_type": "code",
     "checksum": "2dcc7de640cb1d65aa2cbf832561dd09",
     "grade": true,
     "grade_id": "cell-a3772f3085795cc9",
     "locked": true,
     "points": 1,
     "schema_version": 3,
     "solution": false,
     "task": false
    }
   },
   "outputs": [],
   "source": []
  },
  {
   "cell_type": "code",
   "execution_count": 33,
   "id": "4e6156d7",
   "metadata": {
    "deletable": false,
    "nbgrader": {
     "cell_type": "code",
     "checksum": "eaaf50c61eca651f78c590ee9fedfe25",
     "grade": false,
     "grade_id": "cell-447bf9832bcd8b24",
     "locked": false,
     "schema_version": 3,
     "solution": true,
     "task": false
    }
   },
   "outputs": [],
   "source": [
    "#E9: Utilizando .sort() ordena e invierte la lista\n",
    "# para pasar de \n",
    "#  [2,1,0,3,4,7,5,8,9,10] \n",
    "# a \n",
    "# [10, 9, 8, 7, 5, 4, 3, 2, 1, 0]\n",
    "# que está ordenada e invertida\n",
    "# Consejo: Revisa la documentación de sort() y reemplaza 'argumento' por la orden correcta junto con XXX\n",
    "\n",
    "lista_desordenada = [2,1,0,3,4,7,5,8,9,10] \n",
    "lista_invertida_ordenada = lista_desordenada.sort(reverse=True)\n",
    "\n"
   ]
  },
  {
   "cell_type": "code",
   "execution_count": null,
   "id": "6925a755",
   "metadata": {
    "deletable": false,
    "editable": false,
    "nbgrader": {
     "cell_type": "code",
     "checksum": "6ae8a1dda9e1a5499eb7667c5e162117",
     "grade": true,
     "grade_id": "cell-8849d885d52e4c29",
     "locked": true,
     "points": 1,
     "schema_version": 3,
     "solution": false,
     "task": false
    }
   },
   "outputs": [],
   "source": []
  },
  {
   "cell_type": "code",
   "execution_count": 37,
   "id": "21685f4f",
   "metadata": {
    "deletable": false,
    "nbgrader": {
     "cell_type": "code",
     "checksum": "e300cac6cb32acc81d54be8b01d23771",
     "grade": false,
     "grade_id": "cell-66f707639b3b3471",
     "locked": false,
     "schema_version": 3,
     "solution": true,
     "task": false
    }
   },
   "outputs": [
    {
     "data": {
      "text/plain": [
       "'cinco'"
      ]
     },
     "execution_count": 37,
     "metadata": {},
     "output_type": "execute_result"
    }
   ],
   "source": [
    "# E10: Utilizando .pop(), elimina la cadena contenida en la lista\n",
    "# parea obtener [0, 1, 2, 3, 4, 6, 7, 8]\n",
    "numeros_letras = [0,1,2,3,4,'cinco',6,7,8]\n",
    "numeros_letras.pop(5)\n",
    "\n"
   ]
  },
  {
   "cell_type": "code",
   "execution_count": null,
   "id": "ee7530cb",
   "metadata": {
    "deletable": false,
    "editable": false,
    "nbgrader": {
     "cell_type": "code",
     "checksum": "bed7be0ed01a2acd41b219210d9af276",
     "grade": true,
     "grade_id": "cell-86d534129bb8b19a",
     "locked": true,
     "points": 1,
     "schema_version": 3,
     "solution": false,
     "task": false
    }
   },
   "outputs": [],
   "source": []
  }
 ],
 "metadata": {
  "kernelspec": {
   "display_name": "Python 3 (ipykernel)",
   "language": "python",
   "name": "python3"
  },
  "language_info": {
   "codemirror_mode": {
    "name": "ipython",
    "version": 3
   },
   "file_extension": ".py",
   "mimetype": "text/x-python",
   "name": "python",
   "nbconvert_exporter": "python",
   "pygments_lexer": "ipython3",
   "version": "3.10.6"
  }
 },
 "nbformat": 4,
 "nbformat_minor": 5
}
