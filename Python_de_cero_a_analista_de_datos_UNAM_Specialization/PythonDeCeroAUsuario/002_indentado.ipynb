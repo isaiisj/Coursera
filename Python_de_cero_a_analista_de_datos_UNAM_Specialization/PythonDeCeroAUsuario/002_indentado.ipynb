{
 "cells": [
  {
   "cell_type": "markdown",
   "metadata": {
    "deletable": false,
    "editable": false,
    "nbgrader": {
     "cell_type": "markdown",
     "checksum": "75d68888cecef7e4f1a32cd04f3491bb",
     "grade": false,
     "grade_id": "cell-aac536f0c8580036",
     "locked": true,
     "schema_version": 3,
     "solution": false,
     "task": false
    }
   },
   "source": [
    "# Corrige el indentado\n",
    "\n",
    "Corrige el indentado de las siguientes celdas y ejecuta todas las celdas"
   ]
  },
  {
   "cell_type": "code",
   "execution_count": 2,
   "metadata": {
    "deletable": false,
    "nbgrader": {
     "cell_type": "code",
     "checksum": "14fdddb527822f13dc23b5c08b7e23fc",
     "grade": false,
     "grade_id": "cell-59e02ee80677ee68",
     "locked": false,
     "schema_version": 3,
     "solution": true,
     "task": false
    }
   },
   "outputs": [
    {
     "name": "stdout",
     "output_type": "stream",
     "text": [
      "hola mundo\n"
     ]
    }
   ],
   "source": [
    "# Ejercicio 1, \n",
    "saludo = 'hola '\n",
    "nombre  = 'mundo'\n",
    "mensaje = saludo + nombre \n",
    "print(mensaje)\n",
    "    \n"
   ]
  },
  {
   "cell_type": "code",
   "execution_count": 6,
   "metadata": {
    "deletable": false,
    "nbgrader": {
     "cell_type": "code",
     "checksum": "4a10c290ed37d4543ee7e7504878afaf",
     "grade": false,
     "grade_id": "cell-3ce352488630ed17",
     "locked": false,
     "schema_version": 3,
     "solution": true,
     "task": false
    }
   },
   "outputs": [],
   "source": [
    "# Ejercicio 2\n",
    "a = 1\n",
    "b = 3\n",
    "c = a + b\n",
    "    \n",
    "\n"
   ]
  },
  {
   "cell_type": "code",
   "execution_count": 8,
   "metadata": {
    "deletable": false,
    "nbgrader": {
     "cell_type": "code",
     "checksum": "74875d5757741729128113e9b3b2a12c",
     "grade": false,
     "grade_id": "cell-48e94c136ed0da55",
     "locked": false,
     "schema_version": 3,
     "solution": true,
     "task": false
    }
   },
   "outputs": [
    {
     "name": "stdout",
     "output_type": "stream",
     "text": [
      "0\n",
      "1\n",
      "2\n",
      "3\n",
      "4\n"
     ]
    }
   ],
   "source": [
    "# Ejercicio 3\n",
    "for i in range(5):\n",
    "    print(i)\n",
    "\n"
   ]
  },
  {
   "cell_type": "code",
   "execution_count": 10,
   "metadata": {
    "deletable": false,
    "nbgrader": {
     "cell_type": "code",
     "checksum": "82cbe8c1e9da07aa80eb3dfe3b0adb90",
     "grade": false,
     "grade_id": "cell-3c29dfd7d4cd67ee",
     "locked": false,
     "schema_version": 3,
     "solution": true,
     "task": false
    }
   },
   "outputs": [],
   "source": [
    "# Ejercicio 4\n",
    "texto = \"HOLA MUNDE\"\n",
    "texto_en_minuscula = texto.lower()\n",
    "\n"
   ]
  },
  {
   "cell_type": "code",
   "execution_count": 11,
   "metadata": {
    "deletable": false,
    "nbgrader": {
     "cell_type": "code",
     "checksum": "29e24d4117c83f1daca78f8b4f8fde13",
     "grade": false,
     "grade_id": "cell-05c6886d6ce42735",
     "locked": false,
     "schema_version": 3,
     "solution": true,
     "task": false
    }
   },
   "outputs": [],
   "source": [
    "# Ejercicio 5\n",
    "\n",
    "numeros = [1, 2, 3, 4, 5]\n",
    "total = sum(numeros)\n",
    "\n",
    "\n"
   ]
  },
  {
   "cell_type": "code",
   "execution_count": null,
   "metadata": {
    "deletable": false,
    "editable": false,
    "nbgrader": {
     "cell_type": "code",
     "checksum": "12cc00a5c1b8f2174e88b363e60308d5",
     "grade": true,
     "grade_id": "cell-7f8bd36a509f8bee",
     "locked": true,
     "points": 1,
     "schema_version": 3,
     "solution": false,
     "task": false
    }
   },
   "outputs": [],
   "source": []
  },
  {
   "cell_type": "code",
   "execution_count": null,
   "metadata": {
    "deletable": false,
    "editable": false,
    "nbgrader": {
     "cell_type": "code",
     "checksum": "8545ece7a28ffa4e5e1dc27001b5d5d4",
     "grade": true,
     "grade_id": "cell-a069e58f30618432",
     "locked": true,
     "points": 1,
     "schema_version": 3,
     "solution": false,
     "task": false
    }
   },
   "outputs": [],
   "source": []
  },
  {
   "cell_type": "code",
   "execution_count": null,
   "metadata": {
    "deletable": false,
    "editable": false,
    "nbgrader": {
     "cell_type": "code",
     "checksum": "a0aa66e2921bf708e660beb95c54c3e7",
     "grade": true,
     "grade_id": "cell-6b27784bf7ae00a4",
     "locked": true,
     "points": 1,
     "schema_version": 3,
     "solution": false,
     "task": false
    }
   },
   "outputs": [],
   "source": []
  },
  {
   "cell_type": "code",
   "execution_count": null,
   "metadata": {
    "deletable": false,
    "editable": false,
    "nbgrader": {
     "cell_type": "code",
     "checksum": "66c89340b695062e5e399fe7e110de51",
     "grade": true,
     "grade_id": "cell-ffca6f4a21efb3bd",
     "locked": true,
     "points": 1,
     "schema_version": 3,
     "solution": false,
     "task": false
    }
   },
   "outputs": [],
   "source": []
  },
  {
   "cell_type": "code",
   "execution_count": null,
   "metadata": {
    "deletable": false,
    "editable": false,
    "nbgrader": {
     "cell_type": "code",
     "checksum": "1a0a1d0030749e4e36f4437ed330d158",
     "grade": true,
     "grade_id": "cell-d4f0f07bb86ca02d",
     "locked": true,
     "points": 1,
     "schema_version": 3,
     "solution": false,
     "task": false
    }
   },
   "outputs": [],
   "source": []
  }
 ],
 "metadata": {
  "kernelspec": {
   "display_name": "Python 3 (ipykernel)",
   "language": "python",
   "name": "python3"
  },
  "language_info": {
   "codemirror_mode": {
    "name": "ipython",
    "version": 3
   },
   "file_extension": ".py",
   "mimetype": "text/x-python",
   "name": "python",
   "nbconvert_exporter": "python",
   "pygments_lexer": "ipython3",
   "version": "3.10.6"
  }
 },
 "nbformat": 4,
 "nbformat_minor": 4
}
