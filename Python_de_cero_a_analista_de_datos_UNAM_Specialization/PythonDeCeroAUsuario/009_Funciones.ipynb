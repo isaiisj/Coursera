{
 "cells": [
  {
   "cell_type": "markdown",
   "id": "2d21cb18",
   "metadata": {
    "deletable": false,
    "editable": false,
    "nbgrader": {
     "cell_type": "markdown",
     "checksum": "5b8b40e54d6aec33787435c7b139075c",
     "grade": false,
     "grade_id": "cell-ee98de8af65b5df3",
     "locked": true,
     "schema_version": 3,
     "solution": false,
     "task": false
    }
   },
   "source": [
    "# Ejercicios de funciones\n",
    "\n",
    "En cada celda se te pide completar una función que realice una\n",
    "tarea en específico.\n",
    "\n",
    "Por ejemplo:\n",
    "\n",
    "```python \n",
    "# Remplaza las XXX en la función para que imprima \"Hola Persona\", donde\n",
    "# Persona es el nombre y se ingresa como argumento de la función.\n",
    "\n",
    "def hola_persona(persona):\n",
    "    return print(f\"Hola {XXX}\")\n",
    "    \n",
    "```\n",
    "debe ser:\n",
    "\n",
    "\n",
    "```python \n",
    "def hola_persona(persona):\n",
    "    return print(f\"Hola {persona}\")\n",
    "    \n",
    "```\n",
    "Si hay código extra, no lo borres, solo reemplaza las X \n",
    "para lograr el objetivo de cada celda."
   ]
  },
  {
   "cell_type": "code",
   "execution_count": 1,
   "id": "ffcba5aa",
   "metadata": {
    "deletable": false,
    "nbgrader": {
     "cell_type": "code",
     "checksum": "20a79b3aeaeac1531f8ccbb6a9beed59",
     "grade": false,
     "grade_id": "cell-6517d957bb768f91",
     "locked": false,
     "schema_version": 3,
     "solution": true,
     "task": false
    }
   },
   "outputs": [
    {
     "data": {
      "text/plain": [
       "'Hola Isai'"
      ]
     },
     "execution_count": 1,
     "metadata": {},
     "output_type": "execute_result"
    }
   ],
   "source": [
    "#E1: Sustituye las XXX para que la función regrese la frase\n",
    "# \"Hola TuNombre\"\n",
    "# donde TuNombre puedes cambiarlo por el nombre que desees.\n",
    "# Cuida mucho los espacios de la frase\n",
    "def hola_persona(nombre):\n",
    "    frase = f\"Hola {nombre}\"\n",
    "    return frase\n",
    "\n",
    "persona = \"Isai\"\n",
    "hola_persona(persona)\n"
   ]
  },
  {
   "cell_type": "code",
   "execution_count": null,
   "id": "f0799b71",
   "metadata": {
    "deletable": false,
    "editable": false,
    "nbgrader": {
     "cell_type": "code",
     "checksum": "127d85f2d89501fafc97d66772b6ea66",
     "grade": true,
     "grade_id": "cell-1b7da0ed55e079d8",
     "locked": true,
     "points": 1,
     "schema_version": 3,
     "solution": false,
     "task": false
    }
   },
   "outputs": [],
   "source": []
  },
  {
   "cell_type": "code",
   "execution_count": 2,
   "id": "3a5972ae",
   "metadata": {
    "deletable": false,
    "nbgrader": {
     "cell_type": "code",
     "checksum": "e19bcdca4d1e568bc6de0b7ac2a23e38",
     "grade": false,
     "grade_id": "cell-13945c32b37c8a6d",
     "locked": false,
     "schema_version": 3,
     "solution": true,
     "task": false
    }
   },
   "outputs": [
    {
     "data": {
      "text/plain": [
       "3"
      ]
     },
     "execution_count": 2,
     "metadata": {},
     "output_type": "execute_result"
    }
   ],
   "source": [
    "#E2: Sustituye las XXX para que la función convierta\n",
    "# un número flotante a entero y arregla el indentado\n",
    "numero = 3.141596\n",
    "def convierte_a_decimal(numero):\n",
    "    return int(numero)\n",
    "\n",
    "convierte_a_decimal(numero)"
   ]
  },
  {
   "cell_type": "code",
   "execution_count": null,
   "id": "671111da",
   "metadata": {
    "deletable": false,
    "editable": false,
    "nbgrader": {
     "cell_type": "code",
     "checksum": "dca144426b5a2c0fd5b48c5ba509f021",
     "grade": true,
     "grade_id": "cell-9983d6a34e3b4e9f",
     "locked": true,
     "points": 1,
     "schema_version": 3,
     "solution": false,
     "task": false
    }
   },
   "outputs": [],
   "source": []
  },
  {
   "cell_type": "code",
   "execution_count": 4,
   "id": "e8b593b4",
   "metadata": {
    "deletable": false,
    "nbgrader": {
     "cell_type": "code",
     "checksum": "6a6b525f64e2737c53f32bdbe93e2113",
     "grade": false,
     "grade_id": "cell-a44a63f4a2bbc9a3",
     "locked": false,
     "schema_version": 3,
     "solution": true,
     "task": false
    }
   },
   "outputs": [
    {
     "data": {
      "text/plain": [
       "True"
      ]
     },
     "execution_count": 4,
     "metadata": {},
     "output_type": "execute_result"
    }
   ],
   "source": [
    "#E3: Sustituye las XXX para que la función regrese\n",
    "# True si el número que le proporcionas primo y\n",
    "# False si no es primo. Pruebalo con el número 23\n",
    "\n",
    "def es_primo(n):\n",
    "    if n <= 1:\n",
    "        return False\n",
    "    if n <= 3:\n",
    "        return True\n",
    "    if n % 2 == 0 or n % 3 == 0:\n",
    "        return False\n",
    "    i = 5\n",
    "    while i * i <= n:\n",
    "        if n % i == 0 or n % (i + 2) == 0:\n",
    "            return False\n",
    "        i += 6\n",
    "    return True\n",
    "\n",
    "n = 23\n",
    "es_primo(n)"
   ]
  },
  {
   "cell_type": "code",
   "execution_count": null,
   "id": "efc9b436",
   "metadata": {
    "deletable": false,
    "editable": false,
    "nbgrader": {
     "cell_type": "code",
     "checksum": "d5dcfacd941cf49320863a1b82fccdd8",
     "grade": true,
     "grade_id": "cell-5f25312df36c26b2",
     "locked": true,
     "points": 1,
     "schema_version": 3,
     "solution": false,
     "task": false
    }
   },
   "outputs": [],
   "source": []
  },
  {
   "cell_type": "code",
   "execution_count": 5,
   "id": "06ba350a",
   "metadata": {
    "deletable": false,
    "nbgrader": {
     "cell_type": "code",
     "checksum": "7203eb3533237e86b604b644fcbc6910",
     "grade": false,
     "grade_id": "cell-fb549c5155570517",
     "locked": false,
     "schema_version": 3,
     "solution": true,
     "task": false
    }
   },
   "outputs": [
    {
     "data": {
      "text/plain": [
       "'Hola, Sr./Sra. isai'"
      ]
     },
     "execution_count": 5,
     "metadata": {},
     "output_type": "execute_result"
    }
   ],
   "source": [
    "#E4: Define una función llamada saludo que reciba \n",
    "# un nombre y un título. La función debe devolver un \n",
    "# saludo del tipo \"Hola, [título] [nombre]\". \n",
    "# Si no se proporciona un título, debe usar \"Sr./Sra.\" por defecto.\n",
    "# Tip, usa return para regresar la cadena completa.\n",
    "\n",
    "\n",
    "def saludo(nombre, titulo=\"Sr./Sra.\"):\n",
    "    return f\"Hola, {titulo} {nombre}\"\n",
    "\n",
    "nombre = \"isai\"\n",
    "saludo(nombre)\n"
   ]
  },
  {
   "cell_type": "code",
   "execution_count": null,
   "id": "b56b1016",
   "metadata": {
    "deletable": false,
    "editable": false,
    "nbgrader": {
     "cell_type": "code",
     "checksum": "c5fae398d06aa269b0d023131ce14c03",
     "grade": true,
     "grade_id": "cell-988aefe0298be2b9",
     "locked": true,
     "points": 1,
     "schema_version": 3,
     "solution": false,
     "task": false
    }
   },
   "outputs": [],
   "source": []
  },
  {
   "cell_type": "code",
   "execution_count": 2,
   "id": "9df32f11",
   "metadata": {
    "deletable": false,
    "nbgrader": {
     "cell_type": "code",
     "checksum": "2caa6c554e39942d1ebe3acf88cfa5ee",
     "grade": false,
     "grade_id": "cell-ec6ff604c64c1e26",
     "locked": false,
     "schema_version": 3,
     "solution": true,
     "task": false
    }
   },
   "outputs": [
    {
     "data": {
      "text/plain": [
       "'holaholahola'"
      ]
     },
     "execution_count": 2,
     "metadata": {},
     "output_type": "execute_result"
    }
   ],
   "source": [
    "# E5 Define una función llamada repetir_mensaje \n",
    "# que reciba un mensaje y un número entero que \n",
    "# indique cuántas veces se debe repetir el mensaje. \n",
    "# Si no se proporciona el número, debe repetir el mensaje 3 veces por defecto.\n",
    "# Si tu mensaje es \"Hola\", debe regresar \"HolaHolaHola\" por defecto\n",
    "# Usa return para regresar el mensaje\n",
    "\n",
    "def repetir_mensaje(mensaje,numero=3):\n",
    "    if numero == 0:\n",
    "        return mensaje * 3\n",
    "    else:\n",
    "        return mensaje * numero\n",
    "        \n",
    "repetir_mensaje(\"hola\")"
   ]
  },
  {
   "cell_type": "code",
   "execution_count": null,
   "id": "1795f7d3",
   "metadata": {
    "deletable": false,
    "editable": false,
    "nbgrader": {
     "cell_type": "code",
     "checksum": "65b0a072ea8e2ae33b1634e1363567d6",
     "grade": true,
     "grade_id": "cell-9e15cdf1ab819aa1",
     "locked": true,
     "points": 1,
     "schema_version": 3,
     "solution": false,
     "task": false
    }
   },
   "outputs": [],
   "source": []
  }
 ],
 "metadata": {
  "kernelspec": {
   "display_name": "Python 3 (ipykernel)",
   "language": "python",
   "name": "python3"
  },
  "language_info": {
   "codemirror_mode": {
    "name": "ipython",
    "version": 3
   },
   "file_extension": ".py",
   "mimetype": "text/x-python",
   "name": "python",
   "nbconvert_exporter": "python",
   "pygments_lexer": "ipython3",
   "version": "3.10.6"
  }
 },
 "nbformat": 4,
 "nbformat_minor": 5
}
